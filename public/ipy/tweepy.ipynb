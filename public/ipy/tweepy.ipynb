{
 "cells": [
  {
   "cell_type": "code",
   "execution_count": 1,
   "metadata": {},
   "outputs": [
    {
     "name": "stdout",
     "output_type": "stream",
     "text": [
      "Collecting tweepy\n",
      "  Downloading tweepy-3.5.0-py2.py3-none-any.whl\n",
      "Collecting requests>=2.4.3 (from tweepy)\n",
      "  Downloading requests-2.18.1-py2.py3-none-any.whl (88kB)\n",
      "\u001b[K    100% |████████████████████████████████| 92kB 3.8MB/s ta 0:00:011\n",
      "\u001b[?25hCollecting requests-oauthlib>=0.4.1 (from tweepy)\n",
      "  Downloading requests_oauthlib-0.8.0-py2.py3-none-any.whl\n",
      "Requirement already satisfied: six>=1.7.3 in /Users/gauravparuthi/anaconda2/lib/python2.7/site-packages (from tweepy)\n",
      "Requirement already satisfied: chardet<3.1.0,>=3.0.2 in /Users/gauravparuthi/anaconda2/lib/python2.7/site-packages (from requests>=2.4.3->tweepy)\n",
      "Collecting certifi>=2017.4.17 (from requests>=2.4.3->tweepy)\n",
      "  Downloading certifi-2017.4.17-py2.py3-none-any.whl (375kB)\n",
      "\u001b[K    100% |████████████████████████████████| 378kB 1.6MB/s ta 0:00:01\n",
      "\u001b[?25hRequirement already satisfied: idna<2.6,>=2.5 in /Users/gauravparuthi/anaconda2/lib/python2.7/site-packages (from requests>=2.4.3->tweepy)\n",
      "Collecting urllib3<1.22,>=1.21.1 (from requests>=2.4.3->tweepy)\n",
      "  Downloading urllib3-1.21.1-py2.py3-none-any.whl (131kB)\n",
      "\u001b[K    100% |████████████████████████████████| 133kB 3.3MB/s ta 0:00:01\n",
      "\u001b[?25hCollecting oauthlib>=0.6.2 (from requests-oauthlib>=0.4.1->tweepy)\n",
      "  Downloading oauthlib-2.0.2.tar.gz (125kB)\n",
      "\u001b[K    100% |████████████████████████████████| 133kB 3.0MB/s ta 0:00:01\n",
      "\u001b[?25hBuilding wheels for collected packages: oauthlib\n",
      "  Running setup.py bdist_wheel for oauthlib ... \u001b[?25ldone\n",
      "\u001b[?25h  Stored in directory: /Users/gauravparuthi/Library/Caches/pip/wheels/84/98/7a/fba7268f61097bea6081cbe5480bc439b38975748ea7684fd5\n",
      "Successfully built oauthlib\n",
      "Installing collected packages: certifi, urllib3, requests, oauthlib, requests-oauthlib, tweepy\n",
      "  Found existing installation: requests 2.0.1\n",
      "    Uninstalling requests-2.0.1:\n",
      "      Successfully uninstalled requests-2.0.1\n",
      "Successfully installed certifi-2017.4.17 oauthlib-2.0.2 requests-2.18.1 requests-oauthlib-0.8.0 tweepy-3.5.0 urllib3-1.21.1\n"
     ]
    }
   ],
   "source": [
    "!pip install tweepy"
   ]
  },
  {
   "cell_type": "code",
   "execution_count": 3,
   "metadata": {},
   "outputs": [],
   "source": [
    "import tweepy\n",
    "from tweepy import OAuthHandler\n",
    "import json\n",
    " \n",
    "consumer_key = 'EydXCySFEWB8ySuHYj4lLW0fi'\n",
    "consumer_secret = 'COn60qzhfy3OtxVHHOrtqmkglXpXMsydjm2RmmOT5JWNQo1jVh'\n",
    "access_token = '17673290-CRRf4Jo43MUHXWqUBF3SXKdRqiCE5iU3MARravgch'\n",
    "access_secret = 'hddJeLh6w6M27QEnABZLTdBX9k2j6CUUxms2ToHMmBFKP'\n",
    " \n",
    "@classmethod\n",
    "def parse(cls, api, raw):\n",
    "    status = cls.first_parse(api, raw)\n",
    "    setattr(status, 'json', json.dumps(raw))\n",
    "    return status\n",
    " \n",
    "# Status() is the data model for a tweet\n",
    "tweepy.models.Status.first_parse = tweepy.models.Status.parse\n",
    "tweepy.models.Status.parse = parse\n",
    "# User() is the data model for a user profil\n",
    "tweepy.models.User.first_parse = tweepy.models.User.parse\n",
    "tweepy.models.User.parse = parse\n",
    "# You need to do it for all the models you need\n",
    " \n",
    "auth = OAuthHandler(consumer_key, consumer_secret)\n",
    "auth.set_access_token(access_token, access_secret)\n",
    " \n",
    "api = tweepy.API(auth)\n"
   ]
  },
  {
   "cell_type": "code",
   "execution_count": null,
   "metadata": {
    "collapsed": true
   },
   "outputs": [],
   "source": []
  }
 ],
 "metadata": {
  "kernelspec": {
   "display_name": "Python 2",
   "language": "python",
   "name": "python2"
  },
  "language_info": {
   "codemirror_mode": {
    "name": "ipython",
    "version": 2
   },
   "file_extension": ".py",
   "mimetype": "text/x-python",
   "name": "python",
   "nbconvert_exporter": "python",
   "pygments_lexer": "ipython2",
   "version": "2.7.13"
  }
 },
 "nbformat": 4,
 "nbformat_minor": 2
}
